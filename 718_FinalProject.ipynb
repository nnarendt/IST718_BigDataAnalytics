{
 "cells": [
  {
   "cell_type": "markdown",
   "metadata": {
    "id": "bhKY0Ug-ykuM"
   },
   "source": [
    "# Python Libraries"
   ]
  },
  {
   "cell_type": "code",
   "execution_count": 33,
   "metadata": {
    "id": "f69Vf8pJtFEG"
   },
   "outputs": [],
   "source": [
    "import pandas as pd\n",
    "import numpy as np\n",
    "import matplotlib.pyplot as plt"
   ]
  },
  {
   "cell_type": "markdown",
   "metadata": {
    "id": "VnDK9cXIyoec"
   },
   "source": [
    "# Data Import (1)"
   ]
  },
  {
   "cell_type": "code",
   "execution_count": 34,
   "metadata": {
    "id": "vV1H6H5ntqIv"
   },
   "outputs": [],
   "source": [
    "df = pd.read_csv(\"Minimum Wage Data.csv\", encoding='ISO-8859-1')"
   ]
  },
  {
   "cell_type": "code",
   "execution_count": 35,
   "metadata": {
    "colab": {
     "base_uri": "https://localhost:8080/",
     "height": 226
    },
    "id": "P5ed5IPQuVtX",
    "outputId": "353fc402-217c-41b9-a3a6-2539ac433b26"
   },
   "outputs": [
    {
     "data": {
      "text/html": [
       "<div>\n",
       "<style scoped>\n",
       "    .dataframe tbody tr th:only-of-type {\n",
       "        vertical-align: middle;\n",
       "    }\n",
       "\n",
       "    .dataframe tbody tr th {\n",
       "        vertical-align: top;\n",
       "    }\n",
       "\n",
       "    .dataframe thead th {\n",
       "        text-align: right;\n",
       "    }\n",
       "</style>\n",
       "<table border=\"1\" class=\"dataframe\">\n",
       "  <thead>\n",
       "    <tr style=\"text-align: right;\">\n",
       "      <th></th>\n",
       "      <th>Year</th>\n",
       "      <th>State</th>\n",
       "      <th>State.Minimum.Wage</th>\n",
       "      <th>State.Minimum.Wage.2020.Dollars</th>\n",
       "      <th>Federal.Minimum.Wage</th>\n",
       "      <th>Federal.Minimum.Wage.2020.Dollars</th>\n",
       "      <th>Effective.Minimum.Wage</th>\n",
       "      <th>Effective.Minimum.Wage.2020.Dollars</th>\n",
       "      <th>CPI.Average</th>\n",
       "      <th>Department.Of.Labor.Uncleaned.Data</th>\n",
       "      <th>Department.Of.Labor.Cleaned.Low.Value</th>\n",
       "      <th>Department.Of.Labor.Cleaned.Low.Value.2020.Dollars</th>\n",
       "      <th>Department.Of.Labor.Cleaned.High.Value</th>\n",
       "      <th>Department.Of.Labor.Cleaned.High.Value.2020.Dollars</th>\n",
       "      <th>Footnote</th>\n",
       "    </tr>\n",
       "  </thead>\n",
       "  <tbody>\n",
       "    <tr>\n",
       "      <th>0</th>\n",
       "      <td>1968</td>\n",
       "      <td>Alabama</td>\n",
       "      <td>0.00000</td>\n",
       "      <td>0.00</td>\n",
       "      <td>1.15</td>\n",
       "      <td>8.55</td>\n",
       "      <td>1.15</td>\n",
       "      <td>8.55</td>\n",
       "      <td>34.8</td>\n",
       "      <td>...</td>\n",
       "      <td>0.00000</td>\n",
       "      <td>0.00</td>\n",
       "      <td>0.00000</td>\n",
       "      <td>0.00</td>\n",
       "      <td>NaN</td>\n",
       "    </tr>\n",
       "    <tr>\n",
       "      <th>1</th>\n",
       "      <td>1968</td>\n",
       "      <td>Alaska</td>\n",
       "      <td>2.10000</td>\n",
       "      <td>15.61</td>\n",
       "      <td>1.15</td>\n",
       "      <td>8.55</td>\n",
       "      <td>2.10</td>\n",
       "      <td>15.61</td>\n",
       "      <td>34.8</td>\n",
       "      <td>2.1</td>\n",
       "      <td>2.10000</td>\n",
       "      <td>15.61</td>\n",
       "      <td>2.10000</td>\n",
       "      <td>15.61</td>\n",
       "      <td>NaN</td>\n",
       "    </tr>\n",
       "    <tr>\n",
       "      <th>2</th>\n",
       "      <td>1968</td>\n",
       "      <td>Arizona</td>\n",
       "      <td>0.46800</td>\n",
       "      <td>3.48</td>\n",
       "      <td>1.15</td>\n",
       "      <td>8.55</td>\n",
       "      <td>1.15</td>\n",
       "      <td>8.55</td>\n",
       "      <td>34.8</td>\n",
       "      <td>18.72 - 26.40/wk(b)</td>\n",
       "      <td>0.46800</td>\n",
       "      <td>3.48</td>\n",
       "      <td>0.66000</td>\n",
       "      <td>4.91</td>\n",
       "      <td>(b)</td>\n",
       "    </tr>\n",
       "    <tr>\n",
       "      <th>3</th>\n",
       "      <td>1968</td>\n",
       "      <td>Arkansas</td>\n",
       "      <td>0.15625</td>\n",
       "      <td>1.16</td>\n",
       "      <td>1.15</td>\n",
       "      <td>8.55</td>\n",
       "      <td>1.15</td>\n",
       "      <td>8.55</td>\n",
       "      <td>34.8</td>\n",
       "      <td>1.25/day(b)</td>\n",
       "      <td>0.15625</td>\n",
       "      <td>1.16</td>\n",
       "      <td>0.15625</td>\n",
       "      <td>1.16</td>\n",
       "      <td>(b)</td>\n",
       "    </tr>\n",
       "    <tr>\n",
       "      <th>4</th>\n",
       "      <td>1968</td>\n",
       "      <td>California</td>\n",
       "      <td>1.65000</td>\n",
       "      <td>12.26</td>\n",
       "      <td>1.15</td>\n",
       "      <td>8.55</td>\n",
       "      <td>1.65</td>\n",
       "      <td>12.26</td>\n",
       "      <td>34.8</td>\n",
       "      <td>1.65(b)</td>\n",
       "      <td>1.65000</td>\n",
       "      <td>12.26</td>\n",
       "      <td>1.65000</td>\n",
       "      <td>12.26</td>\n",
       "      <td>(b)</td>\n",
       "    </tr>\n",
       "  </tbody>\n",
       "</table>\n",
       "</div>"
      ],
      "text/plain": [
       "   Year       State  State.Minimum.Wage  State.Minimum.Wage.2020.Dollars  \\\n",
       "0  1968     Alabama             0.00000                             0.00   \n",
       "1  1968      Alaska             2.10000                            15.61   \n",
       "2  1968     Arizona             0.46800                             3.48   \n",
       "3  1968    Arkansas             0.15625                             1.16   \n",
       "4  1968  California             1.65000                            12.26   \n",
       "\n",
       "   Federal.Minimum.Wage  Federal.Minimum.Wage.2020.Dollars  \\\n",
       "0                  1.15                               8.55   \n",
       "1                  1.15                               8.55   \n",
       "2                  1.15                               8.55   \n",
       "3                  1.15                               8.55   \n",
       "4                  1.15                               8.55   \n",
       "\n",
       "   Effective.Minimum.Wage  Effective.Minimum.Wage.2020.Dollars  CPI.Average  \\\n",
       "0                    1.15                                 8.55         34.8   \n",
       "1                    2.10                                15.61         34.8   \n",
       "2                    1.15                                 8.55         34.8   \n",
       "3                    1.15                                 8.55         34.8   \n",
       "4                    1.65                                12.26         34.8   \n",
       "\n",
       "  Department.Of.Labor.Uncleaned.Data  Department.Of.Labor.Cleaned.Low.Value  \\\n",
       "0                                ...                                0.00000   \n",
       "1                                2.1                                2.10000   \n",
       "2                18.72 - 26.40/wk(b)                                0.46800   \n",
       "3                        1.25/day(b)                                0.15625   \n",
       "4                            1.65(b)                                1.65000   \n",
       "\n",
       "   Department.Of.Labor.Cleaned.Low.Value.2020.Dollars  \\\n",
       "0                                               0.00    \n",
       "1                                              15.61    \n",
       "2                                               3.48    \n",
       "3                                               1.16    \n",
       "4                                              12.26    \n",
       "\n",
       "   Department.Of.Labor.Cleaned.High.Value  \\\n",
       "0                                 0.00000   \n",
       "1                                 2.10000   \n",
       "2                                 0.66000   \n",
       "3                                 0.15625   \n",
       "4                                 1.65000   \n",
       "\n",
       "   Department.Of.Labor.Cleaned.High.Value.2020.Dollars Footnote  \n",
       "0                                               0.00        NaN  \n",
       "1                                              15.61        NaN  \n",
       "2                                               4.91        (b)  \n",
       "3                                               1.16        (b)  \n",
       "4                                              12.26        (b)  "
      ]
     },
     "execution_count": 35,
     "metadata": {},
     "output_type": "execute_result"
    }
   ],
   "source": [
    "df.head()"
   ]
  },
  {
   "cell_type": "markdown",
   "metadata": {
    "id": "m9MtUi1PyrkD"
   },
   "source": [
    "# Data Cleaning"
   ]
  },
  {
   "cell_type": "code",
   "execution_count": 36,
   "metadata": {
    "colab": {
     "base_uri": "https://localhost:8080/"
    },
    "id": "Ur3AprKDwNAZ",
    "outputId": "57d52883-2aaa-459b-d06b-073cce803a2a"
   },
   "outputs": [
    {
     "data": {
      "text/plain": [
       "Index(['Year', 'State', 'State.Minimum.Wage',\n",
       "       'State.Minimum.Wage.2020.Dollars', 'Federal.Minimum.Wage',\n",
       "       'Federal.Minimum.Wage.2020.Dollars', 'Effective.Minimum.Wage',\n",
       "       'Effective.Minimum.Wage.2020.Dollars', 'CPI.Average',\n",
       "       'Department.Of.Labor.Uncleaned.Data',\n",
       "       'Department.Of.Labor.Cleaned.Low.Value',\n",
       "       'Department.Of.Labor.Cleaned.Low.Value.2020.Dollars',\n",
       "       'Department.Of.Labor.Cleaned.High.Value',\n",
       "       'Department.Of.Labor.Cleaned.High.Value.2020.Dollars', 'Footnote'],\n",
       "      dtype='object')"
      ]
     },
     "execution_count": 36,
     "metadata": {},
     "output_type": "execute_result"
    }
   ],
   "source": [
    "df.columns"
   ]
  },
  {
   "cell_type": "code",
   "execution_count": 37,
   "metadata": {
    "colab": {
     "base_uri": "https://localhost:8080/"
    },
    "id": "OaAEk-qpwOd7",
    "outputId": "6c251fb4-067e-42de-97f5-588ebb588d64"
   },
   "outputs": [
    {
     "data": {
      "text/plain": [
       "Year                                                      0\n",
       "State                                                     0\n",
       "State.Minimum.Wage                                        0\n",
       "State.Minimum.Wage.2020.Dollars                           0\n",
       "Federal.Minimum.Wage                                      0\n",
       "Federal.Minimum.Wage.2020.Dollars                         0\n",
       "Effective.Minimum.Wage                                    0\n",
       "Effective.Minimum.Wage.2020.Dollars                       0\n",
       "CPI.Average                                               0\n",
       "Department.Of.Labor.Uncleaned.Data                        0\n",
       "Department.Of.Labor.Cleaned.Low.Value                     0\n",
       "Department.Of.Labor.Cleaned.Low.Value.2020.Dollars       15\n",
       "Department.Of.Labor.Cleaned.High.Value                    0\n",
       "Department.Of.Labor.Cleaned.High.Value.2020.Dollars      15\n",
       "Footnote                                               2406\n",
       "dtype: int64"
      ]
     },
     "execution_count": 37,
     "metadata": {},
     "output_type": "execute_result"
    }
   ],
   "source": [
    "df.isnull().sum()"
   ]
  },
  {
   "cell_type": "code",
   "execution_count": 38,
   "metadata": {
    "id": "d0ZvjgeDyL85"
   },
   "outputs": [],
   "source": [
    "df.drop(columns=['State.Minimum.Wage.2020.Dollars', 'Federal.Minimum.Wage.2020.Dollars', 'Effective.Minimum.Wage.2020.Dollars',\n",
    "                 'Department.Of.Labor.Uncleaned.Data', 'Department.Of.Labor.Cleaned.Low.Value.2020.Dollars', 'Department.Of.Labor.Cleaned.High.Value.2020.Dollars',\n",
    "                 'Footnote'], inplace=True)"
   ]
  },
  {
   "cell_type": "markdown",
   "metadata": {},
   "source": [
    "# State Population Dataset (2)"
   ]
  },
  {
   "cell_type": "code",
   "execution_count": 39,
   "metadata": {
    "id": "zaz3qy8Hzzyi"
   },
   "outputs": [],
   "source": [
    "df2 = pd.read_csv(\"state_pops.csv\")"
   ]
  },
  {
   "cell_type": "code",
   "execution_count": 40,
   "metadata": {
    "colab": {
     "base_uri": "https://localhost:8080/"
    },
    "id": "JoakH3KBbc9g",
    "outputId": "92e37380-a510-46bb-8008-677b9d3cc2cb"
   },
   "outputs": [
    {
     "data": {
      "text/plain": [
       "Year               0\n",
       "Alaska            50\n",
       "Alabama            0\n",
       "Arkansas           0\n",
       "Arizona            0\n",
       "California         0\n",
       "Colorado           0\n",
       "Connecticut        0\n",
       "Delaware           0\n",
       "Florida            0\n",
       "Georgia            0\n",
       "Hawaii            50\n",
       "Idaho              0\n",
       "Illinois           0\n",
       "Indiana            0\n",
       "Iowa               0\n",
       "Kansas             0\n",
       "Kentucky           0\n",
       "Louisiana          0\n",
       "Maine              0\n",
       "Maryland           0\n",
       "Massachusetts      0\n",
       "Michigan           0\n",
       "Minnesota          0\n",
       "Mississippi        0\n",
       "Missouri           0\n",
       "Montana            0\n",
       "Nebraska           0\n",
       "Nevada             0\n",
       "New Hampshire      0\n",
       "New Jersey         0\n",
       "New Mexico         0\n",
       "New York           0\n",
       "North Carolina     0\n",
       "North Dakota       0\n",
       "Ohio               0\n",
       "Oklahoma           0\n",
       "Oregon             0\n",
       "Pennsylvania       0\n",
       "Rhode Island       0\n",
       "South Carolina     0\n",
       "South Dakota       0\n",
       "Tennessee          0\n",
       "Texas              0\n",
       "D.C.               0\n",
       "Utah               0\n",
       "Vermont            0\n",
       "Virginia           0\n",
       "Washington         0\n",
       "West Virginia      0\n",
       "Wisconsin          0\n",
       "Wyoming            0\n",
       "dtype: int64"
      ]
     },
     "execution_count": 40,
     "metadata": {},
     "output_type": "execute_result"
    }
   ],
   "source": [
    "df2.isnull().sum()"
   ]
  },
  {
   "cell_type": "code",
   "execution_count": 41,
   "metadata": {
    "id": "5fC6A4_I0ZPR"
   },
   "outputs": [],
   "source": [
    "# Reshaping the new dataset from wide to long format\n",
    "df2 = pd.melt(df2, id_vars=['Year'], var_name='State', value_name='Population')"
   ]
  },
  {
   "cell_type": "markdown",
   "metadata": {},
   "source": [
    "### Dataset Merge (1 & 2)"
   ]
  },
  {
   "cell_type": "code",
   "execution_count": 42,
   "metadata": {
    "id": "m0JhQAVz0RR4"
   },
   "outputs": [],
   "source": [
    "df = pd.merge(df, df2, on=['Year', 'State'], how='inner')"
   ]
  },
  {
   "cell_type": "markdown",
   "metadata": {},
   "source": [
    "# Median Average Wages Dataset (3)"
   ]
  },
  {
   "cell_type": "code",
   "execution_count": 43,
   "metadata": {
    "colab": {
     "base_uri": "https://localhost:8080/"
    },
    "id": "RwKlPHp8EXcT",
    "outputId": "d344bba2-744e-48d2-9501-90a59b12acf8"
   },
   "outputs": [
    {
     "data": {
      "text/plain": [
       "Index(['year', 'median', 'average', 'men_median', 'men_average',\n",
       "       'women_median', 'women_average', 'white_median', 'white_average',\n",
       "       'black_median', 'black_average', 'hispanic_median', 'hispanic_average',\n",
       "       'white_men_median', 'white_men_average', 'black_men_median',\n",
       "       'black_men_average', 'hispanic_men_median', 'hispanic_men_average',\n",
       "       'white_women_median', 'white_women_average', 'black_women_median',\n",
       "       'black_women_average', 'hispanic_women_median',\n",
       "       'hispanic_women_average', 'recent_high-school_graduate',\n",
       "       'men_recent_high-school_graduate', 'women_recent_high-school_graduate',\n",
       "       'recent_college_graduate', 'men_recent_college_graduate',\n",
       "       'women_recent_college_graduate'],\n",
       "      dtype='object')"
      ]
     },
     "execution_count": 43,
     "metadata": {},
     "output_type": "execute_result"
    }
   ],
   "source": [
    "df3 = pd.read_csv(\"median_average_wages.csv\")\n",
    "\n",
    "df3.columns"
   ]
  },
  {
   "cell_type": "code",
   "execution_count": 12,
   "metadata": {
    "id": "qS3u98AqE8Nu"
   },
   "outputs": [],
   "source": [
    "df3.isnull().sum()\n",
    "\n",
    "df3.drop(columns=['white_median', 'white_average',\n",
    "       'black_median', 'black_average', 'hispanic_median', 'hispanic_average',\n",
    "       'white_men_median', 'white_men_average', 'black_men_median',\n",
    "       'black_men_average', 'hispanic_men_median', 'hispanic_men_average',\n",
    "       'white_women_median', 'white_women_average', 'black_women_median',\n",
    "       'black_women_average', 'hispanic_women_median',\n",
    "       'hispanic_women_average', 'recent_high-school_graduate',\n",
    "       'men_recent_high-school_graduate', 'women_recent_high-school_graduate',\n",
    "       'recent_college_graduate', 'men_recent_college_graduate',\n",
    "       'women_recent_college_graduate'], inplace=True)"
   ]
  },
  {
   "cell_type": "markdown",
   "metadata": {},
   "source": [
    "### Dataset Merge (1 & 2 & 3)"
   ]
  },
  {
   "cell_type": "code",
   "execution_count": 13,
   "metadata": {},
   "outputs": [],
   "source": [
    "df = pd.merge(df, df3, left_on = ['Year'], right_on = ['year'], how='inner')"
   ]
  },
  {
   "cell_type": "markdown",
   "metadata": {},
   "source": [
    "# Exploratory Data Analysis (EDA)"
   ]
  },
  {
   "cell_type": "code",
   "execution_count": 14,
   "metadata": {},
   "outputs": [
    {
     "data": {
      "text/html": [
       "<div>\n",
       "<style scoped>\n",
       "    .dataframe tbody tr th:only-of-type {\n",
       "        vertical-align: middle;\n",
       "    }\n",
       "\n",
       "    .dataframe tbody tr th {\n",
       "        vertical-align: top;\n",
       "    }\n",
       "\n",
       "    .dataframe thead th {\n",
       "        text-align: right;\n",
       "    }\n",
       "</style>\n",
       "<table border=\"1\" class=\"dataframe\">\n",
       "  <thead>\n",
       "    <tr style=\"text-align: right;\">\n",
       "      <th></th>\n",
       "      <th>Year</th>\n",
       "      <th>State</th>\n",
       "      <th>State.Minimum.Wage</th>\n",
       "      <th>Federal.Minimum.Wage</th>\n",
       "      <th>Effective.Minimum.Wage</th>\n",
       "      <th>CPI.Average</th>\n",
       "      <th>Department.Of.Labor.Cleaned.Low.Value</th>\n",
       "      <th>Department.Of.Labor.Cleaned.High.Value</th>\n",
       "      <th>Population</th>\n",
       "      <th>year</th>\n",
       "      <th>median</th>\n",
       "      <th>average</th>\n",
       "      <th>men_median</th>\n",
       "      <th>men_average</th>\n",
       "      <th>women_median</th>\n",
       "      <th>women_average</th>\n",
       "    </tr>\n",
       "  </thead>\n",
       "  <tbody>\n",
       "    <tr>\n",
       "      <th>0</th>\n",
       "      <td>1973</td>\n",
       "      <td>Alabama</td>\n",
       "      <td>0.000</td>\n",
       "      <td>1.6</td>\n",
       "      <td>1.60</td>\n",
       "      <td>44.4</td>\n",
       "      <td>0.000</td>\n",
       "      <td>0.00</td>\n",
       "      <td>3.579780</td>\n",
       "      <td>1973</td>\n",
       "      <td>19.77</td>\n",
       "      <td>22.99</td>\n",
       "      <td>24.0</td>\n",
       "      <td>26.96</td>\n",
       "      <td>15.1</td>\n",
       "      <td>17.31</td>\n",
       "    </tr>\n",
       "    <tr>\n",
       "      <th>1</th>\n",
       "      <td>1973</td>\n",
       "      <td>Alaska</td>\n",
       "      <td>2.100</td>\n",
       "      <td>1.6</td>\n",
       "      <td>2.10</td>\n",
       "      <td>44.4</td>\n",
       "      <td>2.100</td>\n",
       "      <td>2.10</td>\n",
       "      <td>0.330543</td>\n",
       "      <td>1973</td>\n",
       "      <td>19.77</td>\n",
       "      <td>22.99</td>\n",
       "      <td>24.0</td>\n",
       "      <td>26.96</td>\n",
       "      <td>15.1</td>\n",
       "      <td>17.31</td>\n",
       "    </tr>\n",
       "    <tr>\n",
       "      <th>2</th>\n",
       "      <td>1973</td>\n",
       "      <td>Arizona</td>\n",
       "      <td>0.468</td>\n",
       "      <td>1.6</td>\n",
       "      <td>1.60</td>\n",
       "      <td>44.4</td>\n",
       "      <td>0.468</td>\n",
       "      <td>0.66</td>\n",
       "      <td>2.124438</td>\n",
       "      <td>1973</td>\n",
       "      <td>19.77</td>\n",
       "      <td>22.99</td>\n",
       "      <td>24.0</td>\n",
       "      <td>26.96</td>\n",
       "      <td>15.1</td>\n",
       "      <td>17.31</td>\n",
       "    </tr>\n",
       "    <tr>\n",
       "      <th>3</th>\n",
       "      <td>1973</td>\n",
       "      <td>Arkansas</td>\n",
       "      <td>1.200</td>\n",
       "      <td>1.6</td>\n",
       "      <td>1.60</td>\n",
       "      <td>44.4</td>\n",
       "      <td>1.200</td>\n",
       "      <td>1.20</td>\n",
       "      <td>2.059256</td>\n",
       "      <td>1973</td>\n",
       "      <td>19.77</td>\n",
       "      <td>22.99</td>\n",
       "      <td>24.0</td>\n",
       "      <td>26.96</td>\n",
       "      <td>15.1</td>\n",
       "      <td>17.31</td>\n",
       "    </tr>\n",
       "    <tr>\n",
       "      <th>4</th>\n",
       "      <td>1973</td>\n",
       "      <td>California</td>\n",
       "      <td>1.650</td>\n",
       "      <td>1.6</td>\n",
       "      <td>1.65</td>\n",
       "      <td>44.4</td>\n",
       "      <td>1.650</td>\n",
       "      <td>1.65</td>\n",
       "      <td>20.868728</td>\n",
       "      <td>1973</td>\n",
       "      <td>19.77</td>\n",
       "      <td>22.99</td>\n",
       "      <td>24.0</td>\n",
       "      <td>26.96</td>\n",
       "      <td>15.1</td>\n",
       "      <td>17.31</td>\n",
       "    </tr>\n",
       "  </tbody>\n",
       "</table>\n",
       "</div>"
      ],
      "text/plain": [
       "   Year       State  State.Minimum.Wage  Federal.Minimum.Wage  \\\n",
       "0  1973     Alabama               0.000                   1.6   \n",
       "1  1973      Alaska               2.100                   1.6   \n",
       "2  1973     Arizona               0.468                   1.6   \n",
       "3  1973    Arkansas               1.200                   1.6   \n",
       "4  1973  California               1.650                   1.6   \n",
       "\n",
       "   Effective.Minimum.Wage  CPI.Average  Department.Of.Labor.Cleaned.Low.Value  \\\n",
       "0                    1.60         44.4                                  0.000   \n",
       "1                    2.10         44.4                                  2.100   \n",
       "2                    1.60         44.4                                  0.468   \n",
       "3                    1.60         44.4                                  1.200   \n",
       "4                    1.65         44.4                                  1.650   \n",
       "\n",
       "   Department.Of.Labor.Cleaned.High.Value  Population  year  median  average  \\\n",
       "0                                    0.00    3.579780  1973   19.77    22.99   \n",
       "1                                    2.10    0.330543  1973   19.77    22.99   \n",
       "2                                    0.66    2.124438  1973   19.77    22.99   \n",
       "3                                    1.20    2.059256  1973   19.77    22.99   \n",
       "4                                    1.65   20.868728  1973   19.77    22.99   \n",
       "\n",
       "   men_median  men_average  women_median  women_average  \n",
       "0        24.0        26.96          15.1          17.31  \n",
       "1        24.0        26.96          15.1          17.31  \n",
       "2        24.0        26.96          15.1          17.31  \n",
       "3        24.0        26.96          15.1          17.31  \n",
       "4        24.0        26.96          15.1          17.31  "
      ]
     },
     "execution_count": 14,
     "metadata": {},
     "output_type": "execute_result"
    }
   ],
   "source": [
    "df.head(5)"
   ]
  },
  {
   "cell_type": "code",
   "execution_count": 23,
   "metadata": {},
   "outputs": [
    {
     "data": {
      "text/plain": [
       "array([1973, 1974, 1975, 1976, 1977, 1978, 1979, 1980, 1981, 1982, 1983,\n",
       "       1984, 1985, 1986, 1987, 1988, 1989, 1990, 1991, 1992, 1993, 1994,\n",
       "       1995, 1996, 1997, 1998, 1999, 2000, 2001, 2002, 2003, 2004, 2005,\n",
       "       2006, 2007, 2008, 2009, 2010, 2011, 2012, 2013, 2014, 2015, 2016,\n",
       "       2017], dtype=int64)"
      ]
     },
     "execution_count": 23,
     "metadata": {},
     "output_type": "execute_result"
    }
   ],
   "source": [
    "df['Year'].unique()"
   ]
  },
  {
   "cell_type": "markdown",
   "metadata": {},
   "source": [
    "### Correlation Analysis"
   ]
  },
  {
   "cell_type": "code",
   "execution_count": 15,
   "metadata": {
    "scrolled": true
   },
   "outputs": [
    {
     "name": "stdout",
     "output_type": "stream",
     "text": [
      "State.Minimum.Wage                        1.000000\n",
      "Department.Of.Labor.Cleaned.Low.Value     1.000000\n",
      "Department.Of.Labor.Cleaned.High.Value    0.984619\n",
      "Effective.Minimum.Wage                    0.771696\n",
      "Year                                      0.709242\n",
      "Federal.Minimum.Wage                      0.708963\n",
      "CPI.Average                               0.705877\n",
      "women_average                             0.700633\n",
      "average                                   0.685592\n",
      "women_median                              0.682973\n",
      "men_average                               0.647295\n",
      "median                                    0.591674\n",
      "Population                                0.137301\n",
      "men_median                               -0.122653\n",
      "Name: State.Minimum.Wage, dtype: float64\n"
     ]
    }
   ],
   "source": [
    "columns_of_interest = ['State.Minimum.Wage', 'Year', 'Federal.Minimum.Wage',\n",
    "       'Effective.Minimum.Wage', 'CPI.Average',\n",
    "       'Department.Of.Labor.Cleaned.Low.Value',\n",
    "       'Department.Of.Labor.Cleaned.High.Value', 'Population',\n",
    "       'median', 'average', 'men_median', 'men_average', 'women_median',\n",
    "       'women_average']\n",
    "\n",
    "subset_df = df[columns_of_interest]\n",
    "\n",
    "correlation_with_state_minimum_wage_subset = subset_df.corr()['State.Minimum.Wage'].sort_values(ascending=False)\n",
    "\n",
    "print(correlation_with_state_minimum_wage_subset)"
   ]
  },
  {
   "cell_type": "markdown",
   "metadata": {},
   "source": [
    "# Regression Modeling"
   ]
  },
  {
   "cell_type": "code",
   "execution_count": 16,
   "metadata": {},
   "outputs": [
    {
     "name": "stderr",
     "output_type": "stream",
     "text": [
      "C:\\Users\\nolan_fur2pfn\\anaconda3\\lib\\site-packages\\scipy\\__init__.py:138: UserWarning: A NumPy version >=1.16.5 and <1.23.0 is required for this version of SciPy (detected version 1.24.4)\n",
      "  warnings.warn(f\"A NumPy version >={np_minversion} and <{np_maxversion} is required for this version of \"\n"
     ]
    },
    {
     "data": {
      "text/plain": [
       "((1800, 5), (450, 5), (1800,), (450,))"
      ]
     },
     "execution_count": 16,
     "metadata": {},
     "output_type": "execute_result"
    }
   ],
   "source": [
    "from sklearn.model_selection import train_test_split\n",
    "from sklearn.linear_model import LinearRegression\n",
    "from sklearn.metrics import mean_squared_error, r2_score\n",
    "\n",
    "# Selecting predictors\n",
    "X = df[[\"Year\", \"Federal.Minimum.Wage\", \"Effective.Minimum.Wage\", \"CPI.Average\", \"Population\"]]\n",
    "\n",
    "# Target variable\n",
    "y = df[\"State.Minimum.Wage\"]\n",
    "\n",
    "# Splitting the data into training and testing sets\n",
    "X_train, X_test, y_train, y_test = train_test_split(X, y, test_size=0.2, random_state=42)\n",
    "\n",
    "# Checking the shape of the split data\n",
    "X_train.shape, X_test.shape, y_train.shape, y_test.shape"
   ]
  },
  {
   "cell_type": "code",
   "execution_count": 17,
   "metadata": {},
   "outputs": [
    {
     "name": "stdout",
     "output_type": "stream",
     "text": [
      "MSE:  2.579118037838935\n",
      " \n",
      "R2:  0.618949628776275\n",
      " \n",
      "RMSE:  1.6059632741252008\n"
     ]
    }
   ],
   "source": [
    "regressor = LinearRegression()\n",
    "regressor.fit(X_train, y_train)\n",
    "\n",
    "y_pred = regressor.predict(X_test)\n",
    "\n",
    "mse = mean_squared_error(y_test, y_pred)\n",
    "r2 = r2_score(y_test, y_pred)\n",
    "rmse = np.sqrt(mse)\n",
    "\n",
    "print(\"MSE: \", mse)\n",
    "print(\" \")\n",
    "print(\"R2: \", r2)\n",
    "print(\" \")\n",
    "print(\"RMSE: \", rmse)"
   ]
  },
  {
   "cell_type": "code",
   "execution_count": 18,
   "metadata": {},
   "outputs": [],
   "source": [
    "# Predicting minimum wage for the entire dataset\n",
    "predicted_wage = regressor.predict(X)\n",
    "\n",
    "# Adding the predicted minimum wage as a new column in the original dataframe\n",
    "df['Predicted_Minimum_Wage'] = predicted_wage\n",
    "\n",
    "df = df.round(2)"
   ]
  },
  {
   "cell_type": "code",
   "execution_count": 20,
   "metadata": {
    "scrolled": true
   },
   "outputs": [
    {
     "data": {
      "text/html": [
       "<div>\n",
       "<style scoped>\n",
       "    .dataframe tbody tr th:only-of-type {\n",
       "        vertical-align: middle;\n",
       "    }\n",
       "\n",
       "    .dataframe tbody tr th {\n",
       "        vertical-align: top;\n",
       "    }\n",
       "\n",
       "    .dataframe thead th {\n",
       "        text-align: right;\n",
       "    }\n",
       "</style>\n",
       "<table border=\"1\" class=\"dataframe\">\n",
       "  <thead>\n",
       "    <tr style=\"text-align: right;\">\n",
       "      <th></th>\n",
       "      <th>State</th>\n",
       "      <th>Year</th>\n",
       "      <th>State.Minimum.Wage</th>\n",
       "      <th>Predicted_Minimum_Wage</th>\n",
       "    </tr>\n",
       "  </thead>\n",
       "  <tbody>\n",
       "    <tr>\n",
       "      <th>0</th>\n",
       "      <td>Alabama</td>\n",
       "      <td>1973</td>\n",
       "      <td>0.00</td>\n",
       "      <td>0.87</td>\n",
       "    </tr>\n",
       "    <tr>\n",
       "      <th>1</th>\n",
       "      <td>Alaska</td>\n",
       "      <td>1973</td>\n",
       "      <td>2.10</td>\n",
       "      <td>1.74</td>\n",
       "    </tr>\n",
       "    <tr>\n",
       "      <th>2</th>\n",
       "      <td>Arizona</td>\n",
       "      <td>1973</td>\n",
       "      <td>0.47</td>\n",
       "      <td>0.85</td>\n",
       "    </tr>\n",
       "    <tr>\n",
       "      <th>3</th>\n",
       "      <td>Arkansas</td>\n",
       "      <td>1973</td>\n",
       "      <td>1.20</td>\n",
       "      <td>0.85</td>\n",
       "    </tr>\n",
       "    <tr>\n",
       "      <th>4</th>\n",
       "      <td>California</td>\n",
       "      <td>1973</td>\n",
       "      <td>1.65</td>\n",
       "      <td>1.11</td>\n",
       "    </tr>\n",
       "    <tr>\n",
       "      <th>...</th>\n",
       "      <td>...</td>\n",
       "      <td>...</td>\n",
       "      <td>...</td>\n",
       "      <td>...</td>\n",
       "    </tr>\n",
       "    <tr>\n",
       "      <th>2245</th>\n",
       "      <td>Virginia</td>\n",
       "      <td>2017</td>\n",
       "      <td>7.25</td>\n",
       "      <td>5.92</td>\n",
       "    </tr>\n",
       "    <tr>\n",
       "      <th>2246</th>\n",
       "      <td>Washington</td>\n",
       "      <td>2017</td>\n",
       "      <td>11.00</td>\n",
       "      <td>12.66</td>\n",
       "    </tr>\n",
       "    <tr>\n",
       "      <th>2247</th>\n",
       "      <td>West Virginia</td>\n",
       "      <td>2017</td>\n",
       "      <td>8.75</td>\n",
       "      <td>8.56</td>\n",
       "    </tr>\n",
       "    <tr>\n",
       "      <th>2248</th>\n",
       "      <td>Wisconsin</td>\n",
       "      <td>2017</td>\n",
       "      <td>7.25</td>\n",
       "      <td>5.89</td>\n",
       "    </tr>\n",
       "    <tr>\n",
       "      <th>2249</th>\n",
       "      <td>Wyoming</td>\n",
       "      <td>2017</td>\n",
       "      <td>5.15</td>\n",
       "      <td>5.85</td>\n",
       "    </tr>\n",
       "  </tbody>\n",
       "</table>\n",
       "<p>2250 rows × 4 columns</p>\n",
       "</div>"
      ],
      "text/plain": [
       "              State  Year  State.Minimum.Wage  Predicted_Minimum_Wage\n",
       "0           Alabama  1973                0.00                    0.87\n",
       "1            Alaska  1973                2.10                    1.74\n",
       "2           Arizona  1973                0.47                    0.85\n",
       "3          Arkansas  1973                1.20                    0.85\n",
       "4        California  1973                1.65                    1.11\n",
       "...             ...   ...                 ...                     ...\n",
       "2245       Virginia  2017                7.25                    5.92\n",
       "2246     Washington  2017               11.00                   12.66\n",
       "2247  West Virginia  2017                8.75                    8.56\n",
       "2248      Wisconsin  2017                7.25                    5.89\n",
       "2249        Wyoming  2017                5.15                    5.85\n",
       "\n",
       "[2250 rows x 4 columns]"
      ]
     },
     "execution_count": 20,
     "metadata": {},
     "output_type": "execute_result"
    }
   ],
   "source": [
    "df[['State', 'Year', 'State.Minimum.Wage', 'Predicted_Minimum_Wage']]"
   ]
  },
  {
   "cell_type": "code",
   "execution_count": null,
   "metadata": {},
   "outputs": [],
   "source": [
    "# Logistic Regression\n",
    "# Predict if State is more than Federal minimum wage"
   ]
  }
 ],
 "metadata": {
  "colab": {
   "provenance": []
  },
  "kernelspec": {
   "display_name": "Python 3",
   "language": "python",
   "name": "python3"
  },
  "language_info": {
   "codemirror_mode": {
    "name": "ipython",
    "version": 3
   },
   "file_extension": ".py",
   "mimetype": "text/x-python",
   "name": "python",
   "nbconvert_exporter": "python",
   "pygments_lexer": "ipython3",
   "version": "3.8.3"
  }
 },
 "nbformat": 4,
 "nbformat_minor": 1
}
